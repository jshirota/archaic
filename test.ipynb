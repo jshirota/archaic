{
 "cells": [
  {
   "cell_type": "code",
   "execution_count": 1,
   "metadata": {},
   "outputs": [
    {
     "name": "stdout",
     "output_type": "stream",
     "text": [
      "Mine(oid=1, name_e='Victor', type_e='Diamond', shape=<PointGeometry object at 0x159093b4880[0x159093b4c00]>)\n",
      "Mine(oid=2, name_e='Musselwhite', type_e='Gold', shape=<PointGeometry object at 0x159093b4910[0x159093b4c30]>)\n",
      "Mine(oid=7, name_e='Bucko Lake', type_e='Nickel', shape=<PointGeometry object at 0x159093b4880[0x159093b4c00]>)\n"
     ]
    },
    {
     "data": {
      "text/plain": [
       "{'model': __main__.Mine,\n",
       " 'dynamic': False,\n",
       " 'catalog_path': '.data/canada.geodatabase\\\\main.mines_pt',\n",
       " 'oid_field_name': 'OBJECTID',\n",
       " 'oid_property_name': 'oid',\n",
       " 'has_parameterless_constructor': False,\n",
       " 'properties': {'oid': 'OID@',\n",
       "  'name_e': 'name_e',\n",
       "  'type_e': 'type_e',\n",
       "  'shape': 'SHAPE@'},\n",
       " 'edit_properties': {'oid': 'OID@',\n",
       "  'name_e': 'name_e',\n",
       "  'type_e': 'type_e',\n",
       "  'shape': 'SHAPE@'},\n",
       " '__orig_class__': archaic.info.Info[~T]}"
      ]
     },
     "execution_count": 1,
     "metadata": {},
     "output_type": "execute_result"
    }
   ],
   "source": [
    "import arcpy\n",
    "from dataclasses import dataclass\n",
    "from archaic import FeatureClass\n",
    "\n",
    "arcpy.env.workspace = \".data/canada.geodatabase\"  # type: ignore\n",
    "\n",
    "\n",
    "@dataclass(frozen=True)\n",
    "class Mine:\n",
    "    oid: int\n",
    "    name_e: str\n",
    "    type_e: str\n",
    "    shape: arcpy.Multipoint\n",
    "\n",
    "\n",
    "feature_class = FeatureClass[Mine](\"main.mines_pt\")\n",
    "\n",
    "for feature in feature_class.read([1, 2, 7]):\n",
    "    print(feature)\n",
    "\n",
    "feature_class.info.__dict__"
   ]
  },
  {
   "cell_type": "code",
   "execution_count": 2,
   "metadata": {},
   "outputs": [
    {
     "name": "stdout",
     "output_type": "stream",
     "text": [
      "namespace(Shape=(2223373.863781576, 3439940.7599821603), OBJECTID=1, FEATURE_E='Glacier or Icefield', CARTO_UID=1042, FEATURE_F='Glacier ou champ de glace')\n",
      "namespace(Shape=(1068450.2774327986, 3320336.8584824656), OBJECTID=2, FEATURE_E='Glacier or Icefield', CARTO_UID=2042, FEATURE_F='Glacier ou champ de glace')\n",
      "namespace(Shape=(1156772.6144728088, 3244831.904241975), OBJECTID=7, FEATURE_E='Glacier or Icefield', CARTO_UID=7042, FEATURE_F='Glacier ou champ de glace')\n"
     ]
    },
    {
     "data": {
      "text/plain": [
       "{'model': types.SimpleNamespace,\n",
       " 'dynamic': True,\n",
       " 'catalog_path': '.data/canada.geodatabase\\\\main.glaciers_p',\n",
       " 'oid_field_name': 'OBJECTID',\n",
       " 'oid_property_name': None,\n",
       " 'has_parameterless_constructor': True,\n",
       " 'properties': {'Shape': 'Shape',\n",
       "  'OBJECTID': 'OBJECTID',\n",
       "  'FEATURE_E': 'FEATURE_E',\n",
       "  'CARTO_UID': 'CARTO_UID',\n",
       "  'FEATURE_F': 'FEATURE_F'},\n",
       " 'edit_properties': {'Shape': 'Shape',\n",
       "  'OBJECTID': 'OBJECTID',\n",
       "  'FEATURE_E': 'FEATURE_E',\n",
       "  'CARTO_UID': 'CARTO_UID',\n",
       "  'FEATURE_F': 'FEATURE_F'},\n",
       " '__orig_class__': archaic.info.Info[~T]}"
      ]
     },
     "execution_count": 2,
     "metadata": {},
     "output_type": "execute_result"
    }
   ],
   "source": [
    "feature_class = FeatureClass(\"main.glaciers_p\")\n",
    "\n",
    "for feature in feature_class.read([1, 2, 7]):\n",
    "    print(feature)\n",
    "\n",
    "feature_class.info.__dict__"
   ]
  }
 ],
 "metadata": {
  "kernelspec": {
   "display_name": "Python 3",
   "language": "python",
   "name": "python3"
  },
  "language_info": {
   "codemirror_mode": {
    "name": "ipython",
    "version": 3
   },
   "file_extension": ".py",
   "mimetype": "text/x-python",
   "name": "python",
   "nbconvert_exporter": "python",
   "pygments_lexer": "ipython3",
   "version": "3.9.18"
  }
 },
 "nbformat": 4,
 "nbformat_minor": 2
}
