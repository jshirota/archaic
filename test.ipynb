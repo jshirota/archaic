{
 "cells": [
  {
   "cell_type": "code",
   "execution_count": null,
   "metadata": {},
   "outputs": [],
   "source": [
    "import arcpy\n",
    "from dataclasses import dataclass\n",
    "from archaic import FeatureClass\n",
    "\n",
    "arcpy.env.workspace = \".data/canada.geodatabase\"  # type: ignore\n",
    "\n",
    "\n",
    "@dataclass(frozen=True)\n",
    "class Mine:\n",
    "    oid: int\n",
    "    name_e: str\n",
    "    type_e: str\n",
    "    shape: arcpy.Multipoint\n",
    "\n",
    "\n",
    "feature_class = FeatureClass[Mine](\"main.mines_pt\")\n",
    "\n",
    "for mine in feature_class.read([1, 2, 7]):\n",
    "    print(mine)\n",
    "\n",
    "feature_class.info.__dict__"
   ]
  }
 ],
 "metadata": {
  "kernelspec": {
   "display_name": "Python 3",
   "language": "python",
   "name": "python3"
  },
  "language_info": {
   "codemirror_mode": {
    "name": "ipython",
    "version": 3
   },
   "file_extension": ".py",
   "mimetype": "text/x-python",
   "name": "python",
   "nbconvert_exporter": "python",
   "pygments_lexer": "ipython3",
   "version": "3.9.18"
  }
 },
 "nbformat": 4,
 "nbformat_minor": 2
}
