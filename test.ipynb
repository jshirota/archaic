{
 "cells": [
  {
   "cell_type": "code",
   "execution_count": 1,
   "metadata": {},
   "outputs": [],
   "source": [
    "import arcpy\n",
    "from archaic import FeatureClass\n",
    "\n",
    "arcpy.env.workspace = r\".data\\canada.geodatabase\"  # type: ignore"
   ]
  },
  {
   "cell_type": "code",
   "execution_count": 3,
   "metadata": {},
   "outputs": [
    {
     "data": {
      "text/plain": [
       "(namespace(objectid=4,\n",
       "           name_e='Raglan',\n",
       "           NOM_F='Raglan',\n",
       "           SOURCE='900A',\n",
       "           PRV_CODE=24,\n",
       "           CARTO_UID=703,\n",
       "           type_e='Nickel',\n",
       "           TYPE_F='Nickel',\n",
       "           shape=(1584508.9825000018, 601081.8022000007)),\n",
       " {'model': types.SimpleNamespace,\n",
       "  'has_parameterless_constructor': True,\n",
       "  'catalog_path': '.data\\\\canada.geodatabase\\\\main.mines_pt',\n",
       "  'properties': {'objectid': 'OBJECTID',\n",
       "   'name_e': 'NAME_E',\n",
       "   'NOM_F': 'NOM_F',\n",
       "   'SOURCE': 'SOURCE',\n",
       "   'PRV_CODE': 'PRV_CODE',\n",
       "   'CARTO_UID': 'CARTO_UID',\n",
       "   'type_e': 'TYPE_E',\n",
       "   'TYPE_F': 'TYPE_F',\n",
       "   'shape': 'Shape'},\n",
       "  'edit_properties': {'objectid': 'OBJECTID',\n",
       "   'name_e': 'NAME_E',\n",
       "   'NOM_F': 'NOM_F',\n",
       "   'SOURCE': 'SOURCE',\n",
       "   'PRV_CODE': 'PRV_CODE',\n",
       "   'CARTO_UID': 'CARTO_UID',\n",
       "   'type_e': 'TYPE_E',\n",
       "   'TYPE_F': 'TYPE_F',\n",
       "   'shape': 'Shape'},\n",
       "  'oid_field_name': 'OBJECTID',\n",
       "  'oid_property_name': 'objectid',\n",
       "  '__orig_class__': archaic.info.Info[~T]})"
      ]
     },
     "execution_count": 3,
     "metadata": {},
     "output_type": "execute_result"
    }
   ],
   "source": [
    "fc = FeatureClass(\n",
    "    \"main.mines_pt\",\n",
    "    objectid=\"OBJECTID\",\n",
    "    name_e=\"NAME_E\",\n",
    "    type_e=\"TYPE_E\",\n",
    "    shape=\"SHAPE\",\n",
    ")\n",
    "\n",
    "fc.get(4), fc.info.__dict__\n"
   ]
  },
  {
   "cell_type": "code",
   "execution_count": 4,
   "metadata": {},
   "outputs": [
    {
     "data": {
      "text/plain": [
       "{'model': __main__.Mine,\n",
       " 'has_parameterless_constructor': True,\n",
       " 'catalog_path': '.data\\\\canada.geodatabase\\\\main.mines_pt',\n",
       " 'properties': {'objectid': 'OBJECTID',\n",
       "  'name_e': 'NAME_E',\n",
       "  'type_e': 'TYPE_E',\n",
       "  'shape': 'SHAPE@'},\n",
       " 'edit_properties': {'objectid': 'OBJECTID',\n",
       "  'name_e': 'NAME_E',\n",
       "  'type_e': 'TYPE_E',\n",
       "  'shape': 'SHAPE@'},\n",
       " 'oid_field_name': 'OBJECTID',\n",
       " 'oid_property_name': 'objectid',\n",
       " '__orig_class__': archaic.info.Info[~T]}"
      ]
     },
     "execution_count": 4,
     "metadata": {},
     "output_type": "execute_result"
    }
   ],
   "source": [
    "class Mine:\n",
    "    objectid: int\n",
    "    name_e: str\n",
    "    type_e: str\n",
    "    shape: arcpy.Multipoint\n",
    "\n",
    "\n",
    "feature_class = FeatureClass[Mine](\"main.mines_pt\")\n",
    "feature_class.info.__dict__"
   ]
  },
  {
   "cell_type": "code",
   "execution_count": 5,
   "metadata": {},
   "outputs": [
    {
     "data": {
      "text/plain": [
       "{'model': types.SimpleNamespace,\n",
       " 'has_parameterless_constructor': True,\n",
       " 'catalog_path': '.data\\\\canada.geodatabase\\\\main.glaciers_p',\n",
       " 'properties': {'OBJECTID': 'OBJECTID',\n",
       "  'CARTO_UID': 'CARTO_UID',\n",
       "  'FEATURE_E': 'FEATURE_E',\n",
       "  'FEATURE_F': 'FEATURE_F',\n",
       "  'Shape': 'Shape'},\n",
       " 'edit_properties': {'OBJECTID': 'OBJECTID',\n",
       "  'CARTO_UID': 'CARTO_UID',\n",
       "  'FEATURE_E': 'FEATURE_E',\n",
       "  'FEATURE_F': 'FEATURE_F',\n",
       "  'Shape': 'Shape'},\n",
       " 'oid_field_name': 'OBJECTID',\n",
       " 'oid_property_name': 'OBJECTID',\n",
       " '__orig_class__': archaic.info.Info[~T]}"
      ]
     },
     "execution_count": 5,
     "metadata": {},
     "output_type": "execute_result"
    }
   ],
   "source": [
    "feature_class = FeatureClass(\"main.glaciers_p\")\n",
    "feature_class.info.__dict__"
   ]
  }
 ],
 "metadata": {
  "kernelspec": {
   "display_name": "Python 3",
   "language": "python",
   "name": "python3"
  },
  "language_info": {
   "codemirror_mode": {
    "name": "ipython",
    "version": 3
   },
   "file_extension": ".py",
   "mimetype": "text/x-python",
   "name": "python",
   "nbconvert_exporter": "python",
   "pygments_lexer": "ipython3",
   "version": "3.9.18"
  }
 },
 "nbformat": 4,
 "nbformat_minor": 2
}
