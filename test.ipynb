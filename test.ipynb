{
 "cells": [
  {
   "cell_type": "code",
   "execution_count": 34,
   "metadata": {},
   "outputs": [
    {
     "name": "stdout",
     "output_type": "stream",
     "text": [
      "Victor POINT (-83.895934386762889 52.821169587240128)\n",
      "Musselwhite POINT (-90.391753337661598 52.597857399398237)\n",
      "McArthur River POINT (-105.07011707097534 57.75130033993338)\n",
      "Raglan POINT (-73.617715175947467 61.709178402138583)\n",
      "Gibraltar POINT (-122.27393333756686 52.530587668270641)\n",
      "Bachelor Lake POINT (-76.125962612264829 49.479163744275617)\n",
      "Bucko Lake POINT (-98.658512016764647 54.834410783991956)\n",
      "Meadowbank POINT (-95.975977711453567 65.024794972817887)\n",
      "Ekati POINT (-110.59001135562784 64.761306673101075)\n",
      "Snap Lake POINT (-110.76748173732163 63.636445658241044)\n",
      "Diavik POINT (-110.28191553739606 64.492831064536588)\n",
      "Chisel North POINT (-100.14142376007227 54.86226172896982)\n",
      "Seabee POINT (-103.64582850214336 55.708761144796192)\n",
      "McClean Lake POINT (-103.80222109816 58.235748059881303)\n",
      "Key Lake POINT (-105.66176925926359 57.263924248948761)\n",
      "Rabbit Lake POINT (-103.68718028354095 58.218593246598708)\n",
      "Whitewood POINT (-114.52163258505115 53.645427207566868)\n",
      "Genesee POINT (-114.2528432968823 53.313697167612546)\n",
      "Cardinal River-Luscar POINT (-117.45296877705353 53.064965310514566)\n",
      "Highvale POINT (-114.68486369206207 53.523785252635953)\n",
      "Burtonsville POINT (-114.57321239205615 53.360942524185035)\n",
      "Willow Creek POINT (-122.20313004835101 55.582647632225971)\n",
      "Coal Valley POINT (-116.76145160183593 53.134746310572318)\n",
      "Coal Valley POINT (-116.88574082961777 53.058191808772811)\n",
      "Cardinal River-Cheviot POINT (-117.19906203039821 52.930027440930779)\n",
      "Obed POINT (-117.47255930047213 53.595689261386568)\n",
      "Grand Cache POINT (-119.25654781186449 54.027138893003944)\n",
      "Grand Cache POINT (-119.37836667905033 54.064736383283005)\n",
      "Trend POINT (-120.94352405718817 54.88865447629216)\n",
      "Wolverine POINT (-121.33949789536179 55.117568158933118)\n",
      "Brule POINT (-121.87818533296334 55.406050634592241)\n",
      "Troilus POINT (-74.37302327767064 50.955995911705934)\n",
      "QR POINT (-121.802182465193 52.713398763385712)\n",
      "Tungsten POINT (-128.24202486258147 61.988251897407473)\n",
      "Mount Polley POINT (-121.62636458562604 52.571621264279337)\n",
      "Endako POINT (-125.17136442973164 54.022194420824462)\n",
      "Huckleberry POINT (-127.18391395167632 53.714994882139905)\n",
      "Minto POINT (-137.36036573116314 62.624803926262956)\n",
      "Perseverance POINT (-77.759886328325152 49.743867918048466)\n",
      "Trout Lake POINT (-101.74765917770738 54.841697921198815)\n",
      "Thompson POINT (-97.820568452358955 55.66987074724404)\n",
      "Birchtree POINT (-97.984396949424749 55.683220011996582)\n",
      "Callinan/777 POINT (-101.87265927230031 54.841651286932795)\n"
     ]
    }
   ],
   "source": [
    "import arcpy\n",
    "from archaic import FeatureClass\n",
    "\n",
    "arcpy.env.workspace = \".data/canada.geodatabase\"  # type: ignore\n",
    "\n",
    "class Mine:\n",
    "    objectid: int\n",
    "    name_e: str\n",
    "    type_e: str\n",
    "    shape: arcpy.PointGeometry\n",
    "\n",
    "feature_class = FeatureClass[Mine](\"mines_pt\")\n",
    "\n",
    "for mine in feature_class.read(wkid=4326):\n",
    "    print(mine.name_e, mine.shape.WKT)\n"
   ]
  }
 ],
 "metadata": {
  "kernelspec": {
   "display_name": "Python 3",
   "language": "python",
   "name": "python3"
  },
  "language_info": {
   "codemirror_mode": {
    "name": "ipython",
    "version": 3
   },
   "file_extension": ".py",
   "mimetype": "text/x-python",
   "name": "python",
   "nbconvert_exporter": "python",
   "pygments_lexer": "ipython3",
   "version": "3.9.18"
  }
 },
 "nbformat": 4,
 "nbformat_minor": 2
}
