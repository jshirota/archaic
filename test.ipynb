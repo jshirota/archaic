{
 "cells": [
  {
   "cell_type": "code",
   "execution_count": 10,
   "metadata": {},
   "outputs": [
    {
     "name": "stdout",
     "output_type": "stream",
     "text": [
      "Mine(oid=1, name_e='Victor', type_e='Diamond', shape=<PointGeometry object at 0x25670156850[0x25670156bd0]>)\n",
      "Mine(oid=2, name_e='Musselwhite', type_e='Gold', shape=<PointGeometry object at 0x256668003d0[0x25670128d20]>)\n",
      "Mine(oid=7, name_e='Bucko Lake', type_e='Nickel', shape=<PointGeometry object at 0x25670156850[0x25670156bd0]>)\n"
     ]
    },
    {
     "data": {
      "text/plain": [
       "{'model': __main__.Mine,\n",
       " 'catalog_path': '.data/canada.geodatabase\\\\main.mines_pt',\n",
       " 'oid_field_name': 'OBJECTID',\n",
       " 'oid_property_name': 'oid',\n",
       " 'has_parameterless_constructor': False,\n",
       " 'properties': {'oid': 'OID@',\n",
       "  'name_e': 'NAME_E',\n",
       "  'type_e': 'TYPE_E',\n",
       "  'shape': 'SHAPE@'},\n",
       " 'edit_properties': {'oid': 'OID@',\n",
       "  'name_e': 'NAME_E',\n",
       "  'type_e': 'TYPE_E',\n",
       "  'shape': 'SHAPE@'},\n",
       " '__orig_class__': archaic.info.Info[~T]}"
      ]
     },
     "execution_count": 10,
     "metadata": {},
     "output_type": "execute_result"
    }
   ],
   "source": [
    "import arcpy\n",
    "from dataclasses import dataclass\n",
    "from archaic import FeatureClass\n",
    "\n",
    "arcpy.env.workspace = \".data/canada.geodatabase\"  # type: ignore\n",
    "\n",
    "\n",
    "@dataclass(frozen=True)\n",
    "class Mine:\n",
    "    oid: int\n",
    "    name_e: str\n",
    "    type_e: str\n",
    "    shape: arcpy.Multipoint\n",
    "\n",
    "\n",
    "feature_class = FeatureClass[Mine](\"main.mines_pt\")\n",
    "\n",
    "for mine in feature_class.read([1, 2, 7]):\n",
    "    print(mine)\n",
    "\n",
    "feature_class.info.__dict__"
   ]
  }
 ],
 "metadata": {
  "kernelspec": {
   "display_name": "Python 3",
   "language": "python",
   "name": "python3"
  },
  "language_info": {
   "codemirror_mode": {
    "name": "ipython",
    "version": 3
   },
   "file_extension": ".py",
   "mimetype": "text/x-python",
   "name": "python",
   "nbconvert_exporter": "python",
   "pygments_lexer": "ipython3",
   "version": "3.9.18"
  }
 },
 "nbformat": 4,
 "nbformat_minor": 2
}
