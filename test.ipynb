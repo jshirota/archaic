{
 "cells": [
  {
   "cell_type": "code",
   "execution_count": 37,
   "metadata": {},
   "outputs": [],
   "source": [
    "import arcpy\n",
    "from archaic import FeatureClass\n",
    "\n",
    "arcpy.env.workspace = r\".data\\canada.geodatabase\"  # type: ignore"
   ]
  },
  {
   "cell_type": "code",
   "execution_count": 38,
   "metadata": {},
   "outputs": [
    {
     "data": {
      "text/plain": [
       "{'model': __main__.Mine,\n",
       " 'dynamic': False,\n",
       " 'has_parameterless_constructor': False,\n",
       " 'catalog_path': '.data\\\\canada.geodatabase\\\\main.mines_pt',\n",
       " 'properties': {'objectid': 'OBJECTID',\n",
       "  'name_e': 'NAME_E',\n",
       "  'type_e': 'TYPE_E',\n",
       "  'shape': 'SHAPE@'},\n",
       " 'edit_properties': {'objectid': 'OBJECTID',\n",
       "  'name_e': 'NAME_E',\n",
       "  'type_e': 'TYPE_E',\n",
       "  'shape': 'SHAPE@'},\n",
       " 'oid_field_name': 'OBJECTID',\n",
       " 'oid_property_name': 'objectid',\n",
       " '__orig_class__': archaic.info.Info[~T]}"
      ]
     },
     "execution_count": 38,
     "metadata": {},
     "output_type": "execute_result"
    }
   ],
   "source": [
    "class Mine:\n",
    "    objectid: int\n",
    "    name_e: str\n",
    "    type_e: str\n",
    "    shape: arcpy.Multipoint\n",
    "\n",
    "\n",
    "feature_class = FeatureClass[Mine](\"main.mines_pt\")\n",
    "feature_class.info.__dict__"
   ]
  },
  {
   "cell_type": "code",
   "execution_count": 39,
   "metadata": {},
   "outputs": [
    {
     "data": {
      "text/plain": [
       "{'model': types.SimpleNamespace,\n",
       " 'dynamic': True,\n",
       " 'has_parameterless_constructor': False,\n",
       " 'catalog_path': '.data\\\\canada.geodatabase\\\\main.glaciers_p',\n",
       " 'properties': {'OBJECTID': 'OBJECTID',\n",
       "  'CARTO_UID': 'CARTO_UID',\n",
       "  'FEATURE_E': 'FEATURE_E',\n",
       "  'FEATURE_F': 'FEATURE_F',\n",
       "  'Shape': 'Shape'},\n",
       " 'edit_properties': {'OBJECTID': 'OBJECTID',\n",
       "  'CARTO_UID': 'CARTO_UID',\n",
       "  'FEATURE_E': 'FEATURE_E',\n",
       "  'FEATURE_F': 'FEATURE_F',\n",
       "  'Shape': 'Shape'},\n",
       " 'oid_field_name': 'OBJECTID',\n",
       " 'oid_property_name': 'OBJECTID',\n",
       " '__orig_class__': archaic.info.Info[~T]}"
      ]
     },
     "execution_count": 39,
     "metadata": {},
     "output_type": "execute_result"
    }
   ],
   "source": [
    "feature_class = FeatureClass(\"main.glaciers_p\")\n",
    "feature_class.info.__dict__"
   ]
  }
 ],
 "metadata": {
  "kernelspec": {
   "display_name": "Python 3",
   "language": "python",
   "name": "python3"
  },
  "language_info": {
   "codemirror_mode": {
    "name": "ipython",
    "version": 3
   },
   "file_extension": ".py",
   "mimetype": "text/x-python",
   "name": "python",
   "nbconvert_exporter": "python",
   "pygments_lexer": "ipython3",
   "version": "3.9.18"
  }
 },
 "nbformat": 4,
 "nbformat_minor": 2
}
